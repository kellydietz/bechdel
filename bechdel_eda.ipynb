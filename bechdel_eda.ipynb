{
 "cells": [
  {
   "cell_type": "markdown",
   "metadata": {},
   "source": [
    "## Exploring the data for Bechdel Predictions\n",
    "* What does the Bechdel test data look like?\n",
    "    * How many movies are included? -> 8076\n",
    "    * How many movies received each Bechdel test result\n",
    "    * How many and what percent of movies pass all parts of the Bechdel test -> 4651, 57.6%\n",
    "    * How many and what percent of movies fall all parts of the Bechdel test -> 3425, 42.4%\n",
    "    "
   ]
  },
  {
   "cell_type": "code",
   "execution_count": 1,
   "metadata": {},
   "outputs": [],
   "source": [
    "import pandas as pd\n",
    "import numpy as np\n",
    "from scipy import stats\n",
    "import requests\n",
    "import csv\n",
    "import io\n",
    "import json\n",
    "from pandas.io.json import json_normalize\n",
    "\n",
    "%matplotlib inline\n",
    "import seaborn as sns"
   ]
  },
  {
   "cell_type": "code",
   "execution_count": 2,
   "metadata": {},
   "outputs": [],
   "source": [
    "inpath = r'C:\\Users\\dietz\\OneDrive\\Documents\\GitHub\\bechdel'"
   ]
  },
  {
   "cell_type": "code",
   "execution_count": 3,
   "metadata": {
    "scrolled": true
   },
   "outputs": [],
   "source": [
    "bechdel = pd.read_csv(inpath + r'\\bechdel.csv')"
   ]
  },
  {
   "cell_type": "code",
   "execution_count": 4,
   "metadata": {
    "scrolled": true
   },
   "outputs": [
    {
     "data": {
      "text/plain": [
       "8076"
      ]
     },
     "execution_count": 4,
     "metadata": {},
     "output_type": "execute_result"
    }
   ],
   "source": [
    "len(bechdel)"
   ]
  },
  {
   "cell_type": "code",
   "execution_count": 41,
   "metadata": {},
   "outputs": [
    {
     "data": {
      "text/html": [
       "<div>\n",
       "<style scoped>\n",
       "    .dataframe tbody tr th:only-of-type {\n",
       "        vertical-align: middle;\n",
       "    }\n",
       "\n",
       "    .dataframe tbody tr th {\n",
       "        vertical-align: top;\n",
       "    }\n",
       "\n",
       "    .dataframe thead th {\n",
       "        text-align: right;\n",
       "    }\n",
       "</style>\n",
       "<table border=\"1\" class=\"dataframe\">\n",
       "  <thead>\n",
       "    <tr style=\"text-align: right;\">\n",
       "      <th></th>\n",
       "      <th>Unnamed: 0</th>\n",
       "      <th>id</th>\n",
       "      <th>imdbid</th>\n",
       "      <th>rating</th>\n",
       "      <th>year</th>\n",
       "      <th>bechdel_pass</th>\n",
       "      <th>bechdelPass</th>\n",
       "    </tr>\n",
       "  </thead>\n",
       "  <tbody>\n",
       "    <tr>\n",
       "      <th>count</th>\n",
       "      <td>8076.00000</td>\n",
       "      <td>8076.000000</td>\n",
       "      <td>8.076000e+03</td>\n",
       "      <td>8076.000000</td>\n",
       "      <td>8076.000000</td>\n",
       "      <td>8076.000000</td>\n",
       "      <td>8076.000000</td>\n",
       "    </tr>\n",
       "    <tr>\n",
       "      <th>mean</th>\n",
       "      <td>4037.50000</td>\n",
       "      <td>4279.743314</td>\n",
       "      <td>1.104536e+06</td>\n",
       "      <td>2.152055</td>\n",
       "      <td>1995.657875</td>\n",
       "      <td>0.575904</td>\n",
       "      <td>0.575904</td>\n",
       "    </tr>\n",
       "    <tr>\n",
       "      <th>std</th>\n",
       "      <td>2331.48472</td>\n",
       "      <td>2485.178574</td>\n",
       "      <td>1.450177e+06</td>\n",
       "      <td>1.086094</td>\n",
       "      <td>23.595979</td>\n",
       "      <td>0.494236</td>\n",
       "      <td>0.494236</td>\n",
       "    </tr>\n",
       "    <tr>\n",
       "      <th>min</th>\n",
       "      <td>0.00000</td>\n",
       "      <td>1.000000</td>\n",
       "      <td>3.000000e+00</td>\n",
       "      <td>0.000000</td>\n",
       "      <td>1888.000000</td>\n",
       "      <td>0.000000</td>\n",
       "      <td>0.000000</td>\n",
       "    </tr>\n",
       "    <tr>\n",
       "      <th>25%</th>\n",
       "      <td>2018.75000</td>\n",
       "      <td>2110.750000</td>\n",
       "      <td>9.813650e+04</td>\n",
       "      <td>1.000000</td>\n",
       "      <td>1988.000000</td>\n",
       "      <td>0.000000</td>\n",
       "      <td>0.000000</td>\n",
       "    </tr>\n",
       "    <tr>\n",
       "      <th>50%</th>\n",
       "      <td>4037.50000</td>\n",
       "      <td>4279.500000</td>\n",
       "      <td>3.970830e+05</td>\n",
       "      <td>3.000000</td>\n",
       "      <td>2005.000000</td>\n",
       "      <td>1.000000</td>\n",
       "      <td>1.000000</td>\n",
       "    </tr>\n",
       "    <tr>\n",
       "      <th>75%</th>\n",
       "      <td>6056.25000</td>\n",
       "      <td>6415.250000</td>\n",
       "      <td>1.641464e+06</td>\n",
       "      <td>3.000000</td>\n",
       "      <td>2012.000000</td>\n",
       "      <td>1.000000</td>\n",
       "      <td>1.000000</td>\n",
       "    </tr>\n",
       "    <tr>\n",
       "      <th>max</th>\n",
       "      <td>8075.00000</td>\n",
       "      <td>8679.000000</td>\n",
       "      <td>9.358120e+06</td>\n",
       "      <td>3.000000</td>\n",
       "      <td>2019.000000</td>\n",
       "      <td>1.000000</td>\n",
       "      <td>1.000000</td>\n",
       "    </tr>\n",
       "  </tbody>\n",
       "</table>\n",
       "</div>"
      ],
      "text/plain": [
       "       Unnamed: 0           id        imdbid       rating         year  \\\n",
       "count  8076.00000  8076.000000  8.076000e+03  8076.000000  8076.000000   \n",
       "mean   4037.50000  4279.743314  1.104536e+06     2.152055  1995.657875   \n",
       "std    2331.48472  2485.178574  1.450177e+06     1.086094    23.595979   \n",
       "min       0.00000     1.000000  3.000000e+00     0.000000  1888.000000   \n",
       "25%    2018.75000  2110.750000  9.813650e+04     1.000000  1988.000000   \n",
       "50%    4037.50000  4279.500000  3.970830e+05     3.000000  2005.000000   \n",
       "75%    6056.25000  6415.250000  1.641464e+06     3.000000  2012.000000   \n",
       "max    8075.00000  8679.000000  9.358120e+06     3.000000  2019.000000   \n",
       "\n",
       "       bechdel_pass  bechdelPass  \n",
       "count   8076.000000  8076.000000  \n",
       "mean       0.575904     0.575904  \n",
       "std        0.494236     0.494236  \n",
       "min        0.000000     0.000000  \n",
       "25%        0.000000     0.000000  \n",
       "50%        1.000000     1.000000  \n",
       "75%        1.000000     1.000000  \n",
       "max        1.000000     1.000000  "
      ]
     },
     "execution_count": 41,
     "metadata": {},
     "output_type": "execute_result"
    }
   ],
   "source": [
    "bechdel.describe()"
   ]
  },
  {
   "cell_type": "code",
   "execution_count": 10,
   "metadata": {},
   "outputs": [
    {
     "data": {
      "text/plain": [
       "Text(0.5,0,'Rating')"
      ]
     },
     "execution_count": 10,
     "metadata": {},
     "output_type": "execute_result"
    },
    {
     "data": {
      "image/png": "[encoded data removed]",
      "text/plain": [
       "<Figure size 432x288 with 1 Axes>"
      ]
     },
     "metadata": {
      "needs_background": "light"
     },
     "output_type": "display_data"
    }
   ],
   "source": [
    "ratingCounts = bechdel.rating.value_counts() ## Wondering if the training data is biased toward movies that pass\n",
    "\n",
    "ratingCounts.plot(kind='bar', title=\"Bechdel Test Rating Counts\")\n",
    "sns.mpl.pyplot.ylabel(\"Counts\")\n",
    "sns.mpl.pyplot.xlabel(\"Rating\")"
   ]
  },
  {
   "cell_type": "markdown",
   "metadata": {},
   "source": [
    "#### Creating a feature that treats failing one test as overall failure\n",
    "I want to create a binary Rating variable where a 0, 1, or 2 is considered a failure"
   ]
  },
  {
   "cell_type": "code",
   "execution_count": 40,
   "metadata": {},
   "outputs": [
    {
     "name": "stdout",
     "output_type": "stream",
     "text": [
      "1    4651\n",
      "0    3425\n",
      "Name: bechdelPass, dtype: int64\n"
     ]
    },
    {
     "data": {
      "text/plain": [
       "57.6"
      ]
     },
     "execution_count": 40,
     "metadata": {},
     "output_type": "execute_result"
    }
   ],
   "source": [
    "bechdel['bechdelPass'] = 0\n",
    "bechdel.loc[bechdel['rating'] == 3, 'bechdelPass'] = 1\n",
    "\n",
    "print(bechdel.bechdelPass.value_counts())\n",
    "round(bechdel.bechdelPass.mean()*100,1)"
   ]
  },
  {
   "cell_type": "code",
   "execution_count": 9,
   "metadata": {
    "scrolled": true
   },
   "outputs": [
    {
     "data": {
      "text/plain": [
       "2013    403\n",
       "2014    379\n",
       "2011    359\n",
       "2012    345\n",
       "2010    343\n",
       "2009    338\n",
       "2015    316\n",
       "2016    296\n",
       "2008    259\n",
       "2007    251\n",
       "2006    247\n",
       "2017    232\n",
       "2005    207\n",
       "2004    193\n",
       "2002    171\n",
       "2001    166\n",
       "2018    151\n",
       "2003    151\n",
       "2000    144\n",
       "1998    133\n",
       "1999    126\n",
       "1996    118\n",
       "1997    108\n",
       "1995    107\n",
       "1994    100\n",
       "1993     96\n",
       "1991     76\n",
       "1985     75\n",
       "1992     75\n",
       "1990     71\n",
       "       ... \n",
       "1929      9\n",
       "1922      9\n",
       "1906      7\n",
       "1926      6\n",
       "1916      5\n",
       "1923      5\n",
       "1903      5\n",
       "1917      5\n",
       "1918      4\n",
       "1896      4\n",
       "1921      4\n",
       "1904      4\n",
       "1902      4\n",
       "1898      3\n",
       "1912      3\n",
       "1920      3\n",
       "1909      3\n",
       "1901      3\n",
       "1910      3\n",
       "1895      2\n",
       "1905      2\n",
       "1919      2\n",
       "1913      2\n",
       "1907      2\n",
       "1899      2\n",
       "1914      1\n",
       "1908      1\n",
       "1915      1\n",
       "1892      1\n",
       "1888      1\n",
       "Name: year, Length: 125, dtype: int64"
      ]
     },
     "execution_count": 9,
     "metadata": {},
     "output_type": "execute_result"
    }
   ],
   "source": [
    "bechdel.year.value_counts()"
   ]
  },
  {
   "cell_type": "code",
   "execution_count": null,
   "metadata": {},
   "outputs": [],
   "source": []
  }
 ],
 "metadata": {
  "kernelspec": {
   "display_name": "Python 3",
   "language": "python",
   "name": "python3"
  },
  "language_info": {
   "codemirror_mode": {
    "name": "ipython",
    "version": 3
   },
   "file_extension": ".py",
   "mimetype": "text/x-python",
   "name": "python",
   "nbconvert_exporter": "python",
   "pygments_lexer": "ipython3",
   "version": "3.7.0"
  }
 },
 "nbformat": 4,
 "nbformat_minor": 2
}
